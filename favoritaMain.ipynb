{
 "cells": [
  {
   "cell_type": "code",
   "execution_count": 1,
   "metadata": {
    "collapsed": true
   },
   "outputs": [],
   "source": [
    "import pandas as pd\n",
    "import numpy as np\n",
    "from datetime import timedelta\n",
    "from sklearn.ensemble import RandomForestRegressor as RFR"
   ]
  },
  {
   "cell_type": "code",
   "execution_count": 2,
   "metadata": {
    "collapsed": false,
    "scrolled": true
   },
   "outputs": [],
   "source": [
    "dtypes = {'id':'uint32', 'item_nbr':'int32', 'store_nbr':'int8', 'unit_sales':'float32'}\n",
    "train =pd.read_csv('E://Favorita/train/train.csv', dtype=dtypes, parse_dates=['date'],\n",
    "                    skiprows=range(1, 106672217))\n",
    "test =pd.read_csv('E://Favorita/test.csv/test.csv', dtype=dtypes, parse_dates=['date'])"
   ]
  },
  {
   "cell_type": "code",
   "execution_count": 13,
   "metadata": {
    "collapsed": false
   },
   "outputs": [],
   "source": [
    "items=pd.read_csv('E://Favorita/items.csv/items.csv')"
   ]
  },
  {
   "cell_type": "code",
   "execution_count": 3,
   "metadata": {
    "collapsed": false,
    "scrolled": true
   },
   "outputs": [
    {
     "name": "stderr",
     "output_type": "stream",
     "text": [
      "C:\\Users\\woj\\Anaconda3\\lib\\site-packages\\ipykernel\\__main__.py:8: SettingWithCopyWarning: \n",
      "A value is trying to be set on a copy of a slice from a DataFrame.\n",
      "Try using .loc[row_indexer,col_indexer] = value instead\n",
      "\n",
      "See the caveats in the documentation: http://pandas.pydata.org/pandas-docs/stable/indexing.html#indexing-view-versus-copy\n"
     ]
    }
   ],
   "source": [
    "#removing all observation from training dataset which doesnt exist in test\n",
    "test_unique=test['item_nbr'].unique().tolist()\n",
    "train_unique =pd.DataFrame(data=train['item_nbr'].unique(), columns={'item_num'})\n",
    "train_unique['isin'] =train_unique.isin(test_unique)\n",
    "to_remove=train_unique[(train_unique[['isin']]==False).values].item_num.values\n",
    "train_index = train[['item_nbr']].isin(to_remove).values\n",
    "train_short=train[~train_index]\n",
    "train_short['wd']=train_short['date'].dt.dayofweek"
   ]
  },
  {
   "cell_type": "code",
   "execution_count": 4,
   "metadata": {
    "collapsed": false
   },
   "outputs": [],
   "source": [
    "avg_wd = train_short[['date','wd','store_nbr','item_nbr','unit_sales','id']].groupby(['wd','item_nbr','store_nbr'])['unit_sales'].mean().to_frame('avg_wday').reset_index()\n",
    "avg_full = avg_wd.groupby(['item_nbr', 'store_nbr'])['avg_wday'].mean().to_frame('avg_day').reset_index()"
   ]
  },
  {
   "cell_type": "code",
   "execution_count": 5,
   "metadata": {
    "collapsed": false
   },
   "outputs": [],
   "source": [
    "newnew=pd.merge(train_short, avg_full,how='left', on=['item_nbr', 'store_nbr'])\n",
    "newnew=pd.merge(newnew, avg_wd,how='left', on=['item_nbr', 'store_nbr','wd'])\n",
    "newnew['onpromotion'].fillna('False')\n",
    "del train, train_short"
   ]
  },
  {
   "cell_type": "code",
   "execution_count": 26,
   "metadata": {
    "collapsed": false,
    "scrolled": true
   },
   "outputs": [
    {
     "data": {
      "text/plain": [
       "0"
      ]
     },
     "execution_count": 26,
     "metadata": {},
     "output_type": "execute_result"
    }
   ],
   "source": [
    "sum(pd.isnull(newnew['onpromotion']))"
   ]
  },
  {
   "cell_type": "code",
   "execution_count": 85,
   "metadata": {
    "collapsed": false,
    "scrolled": true
   },
   "outputs": [
    {
     "data": {
      "text/html": [
       "<div>\n",
       "<table border=\"1\" class=\"dataframe\">\n",
       "  <thead>\n",
       "    <tr style=\"text-align: right;\">\n",
       "      <th></th>\n",
       "      <th>id</th>\n",
       "      <th>date</th>\n",
       "      <th>store_nbr</th>\n",
       "      <th>item_nbr</th>\n",
       "      <th>unit_sales</th>\n",
       "      <th>onpromotion</th>\n",
       "      <th>wd</th>\n",
       "      <th>avg_day</th>\n",
       "      <th>avg_wday</th>\n",
       "      <th>avg_class</th>\n",
       "      <th>family</th>\n",
       "      <th>class</th>\n",
       "      <th>perishable</th>\n",
       "      <th>avg_class_store</th>\n",
       "      <th>0</th>\n",
       "    </tr>\n",
       "  </thead>\n",
       "  <tbody>\n",
       "    <tr>\n",
       "      <th>0</th>\n",
       "      <td>106672216</td>\n",
       "      <td>2017-02-18</td>\n",
       "      <td>34</td>\n",
       "      <td>463901</td>\n",
       "      <td>1.0</td>\n",
       "      <td>False</td>\n",
       "      <td>5</td>\n",
       "      <td>1.919471</td>\n",
       "      <td>1.863636</td>\n",
       "      <td>4.676555</td>\n",
       "      <td>CLEANING</td>\n",
       "      <td>3034</td>\n",
       "      <td>0</td>\n",
       "      <td>2.980253</td>\n",
       "      <td>37666</td>\n",
       "    </tr>\n",
       "    <tr>\n",
       "      <th>1</th>\n",
       "      <td>106672217</td>\n",
       "      <td>2017-02-18</td>\n",
       "      <td>34</td>\n",
       "      <td>463903</td>\n",
       "      <td>2.0</td>\n",
       "      <td>False</td>\n",
       "      <td>5</td>\n",
       "      <td>1.453537</td>\n",
       "      <td>1.375000</td>\n",
       "      <td>4.676555</td>\n",
       "      <td>CLEANING</td>\n",
       "      <td>3034</td>\n",
       "      <td>0</td>\n",
       "      <td>2.980253</td>\n",
       "      <td>37666</td>\n",
       "    </tr>\n",
       "    <tr>\n",
       "      <th>2</th>\n",
       "      <td>106672218</td>\n",
       "      <td>2017-02-18</td>\n",
       "      <td>34</td>\n",
       "      <td>464263</td>\n",
       "      <td>2.0</td>\n",
       "      <td>False</td>\n",
       "      <td>5</td>\n",
       "      <td>5.300080</td>\n",
       "      <td>5.958333</td>\n",
       "      <td>11.137202</td>\n",
       "      <td>GROCERY I</td>\n",
       "      <td>1014</td>\n",
       "      <td>0</td>\n",
       "      <td>9.238782</td>\n",
       "      <td>116155</td>\n",
       "    </tr>\n",
       "    <tr>\n",
       "      <th>3</th>\n",
       "      <td>106672219</td>\n",
       "      <td>2017-02-18</td>\n",
       "      <td>34</td>\n",
       "      <td>464302</td>\n",
       "      <td>3.0</td>\n",
       "      <td>False</td>\n",
       "      <td>5</td>\n",
       "      <td>1.726367</td>\n",
       "      <td>2.200000</td>\n",
       "      <td>4.548905</td>\n",
       "      <td>GROCERY I</td>\n",
       "      <td>1026</td>\n",
       "      <td>0</td>\n",
       "      <td>3.869122</td>\n",
       "      <td>116155</td>\n",
       "    </tr>\n",
       "    <tr>\n",
       "      <th>4</th>\n",
       "      <td>106672220</td>\n",
       "      <td>2017-02-18</td>\n",
       "      <td>34</td>\n",
       "      <td>464333</td>\n",
       "      <td>26.0</td>\n",
       "      <td>False</td>\n",
       "      <td>5</td>\n",
       "      <td>13.628486</td>\n",
       "      <td>17.799999</td>\n",
       "      <td>8.787640</td>\n",
       "      <td>GROCERY I</td>\n",
       "      <td>1040</td>\n",
       "      <td>0</td>\n",
       "      <td>11.485539</td>\n",
       "      <td>116155</td>\n",
       "    </tr>\n",
       "  </tbody>\n",
       "</table>\n",
       "</div>"
      ],
      "text/plain": [
       "          id       date  store_nbr  item_nbr  unit_sales onpromotion  wd  \\\n",
       "0  106672216 2017-02-18         34    463901         1.0       False   5   \n",
       "1  106672217 2017-02-18         34    463903         2.0       False   5   \n",
       "2  106672218 2017-02-18         34    464263         2.0       False   5   \n",
       "3  106672219 2017-02-18         34    464302         3.0       False   5   \n",
       "4  106672220 2017-02-18         34    464333        26.0       False   5   \n",
       "\n",
       "     avg_day   avg_wday  avg_class     family  class  perishable  \\\n",
       "0   1.919471   1.863636   4.676555   CLEANING   3034           0   \n",
       "1   1.453537   1.375000   4.676555   CLEANING   3034           0   \n",
       "2   5.300080   5.958333  11.137202  GROCERY I   1014           0   \n",
       "3   1.726367   2.200000   4.548905  GROCERY I   1026           0   \n",
       "4  13.628486  17.799999   8.787640  GROCERY I   1040           0   \n",
       "\n",
       "   avg_class_store       0  \n",
       "0         2.980253   37666  \n",
       "1         2.980253   37666  \n",
       "2         9.238782  116155  \n",
       "3         3.869122  116155  \n",
       "4        11.485539  116155  "
      ]
     },
     "execution_count": 85,
     "metadata": {},
     "output_type": "execute_result"
    }
   ],
   "source": [
    "newnew.head()"
   ]
  },
  {
   "cell_type": "code",
   "execution_count": 9,
   "metadata": {
    "collapsed": false
   },
   "outputs": [],
   "source": [
    "#preparing test data\n",
    "test['wd']=test['date'].dt.dayofweek\n",
    "test=pd.merge(test, avg_full,how='left', on=['item_nbr', 'store_nbr'])\n",
    "test=pd.merge(test, avg_wd,how='left', on=['item_nbr', 'store_nbr','wd'])"
   ]
  },
  {
   "cell_type": "code",
   "execution_count": 62,
   "metadata": {
    "collapsed": false
   },
   "outputs": [],
   "source": [
    "newnew=pd.merge(newnew, items,how='left', on=['item_nbr'])"
   ]
  },
  {
   "cell_type": "code",
   "execution_count": 61,
   "metadata": {
    "collapsed": false,
    "scrolled": false
   },
   "outputs": [
    {
     "data": {
      "text/html": [
       "<div>\n",
       "<table border=\"1\" class=\"dataframe\">\n",
       "  <thead>\n",
       "    <tr style=\"text-align: right;\">\n",
       "      <th></th>\n",
       "      <th>item_nbr</th>\n",
       "      <th>family</th>\n",
       "      <th>class</th>\n",
       "      <th>perishable</th>\n",
       "    </tr>\n",
       "  </thead>\n",
       "  <tbody>\n",
       "    <tr>\n",
       "      <th>0</th>\n",
       "      <td>96995</td>\n",
       "      <td>GROCERY I</td>\n",
       "      <td>1093</td>\n",
       "      <td>0</td>\n",
       "    </tr>\n",
       "    <tr>\n",
       "      <th>1</th>\n",
       "      <td>99197</td>\n",
       "      <td>GROCERY I</td>\n",
       "      <td>1067</td>\n",
       "      <td>0</td>\n",
       "    </tr>\n",
       "    <tr>\n",
       "      <th>2</th>\n",
       "      <td>103501</td>\n",
       "      <td>CLEANING</td>\n",
       "      <td>3008</td>\n",
       "      <td>0</td>\n",
       "    </tr>\n",
       "    <tr>\n",
       "      <th>3</th>\n",
       "      <td>103520</td>\n",
       "      <td>GROCERY I</td>\n",
       "      <td>1028</td>\n",
       "      <td>0</td>\n",
       "    </tr>\n",
       "    <tr>\n",
       "      <th>4</th>\n",
       "      <td>103665</td>\n",
       "      <td>BREAD/BAKERY</td>\n",
       "      <td>2712</td>\n",
       "      <td>1</td>\n",
       "    </tr>\n",
       "  </tbody>\n",
       "</table>\n",
       "</div>"
      ],
      "text/plain": [
       "   item_nbr        family  class  perishable\n",
       "0     96995     GROCERY I   1093           0\n",
       "1     99197     GROCERY I   1067           0\n",
       "2    103501      CLEANING   3008           0\n",
       "3    103520     GROCERY I   1028           0\n",
       "4    103665  BREAD/BAKERY   2712           1"
      ]
     },
     "execution_count": 61,
     "metadata": {},
     "output_type": "execute_result"
    }
   ],
   "source": [
    "items.head()"
   ]
  },
  {
   "cell_type": "code",
   "execution_count": 66,
   "metadata": {
    "collapsed": false
   },
   "outputs": [],
   "source": [
    "avg_class_full=newnew.groupby(['class'])['unit_sales'].mean().to_frame('avg_class').reset_index()\n",
    "avg_class_store = newnew.groupby(['class','store_nbr'])['unit_sales'].mean().to_frame('avg_class_store').reset_index()\n",
    "avg_trans_family = newnew.groupby( ['family','store_nbr']).size().to_frame('avg_trans_family').reset_index()"
   ]
  },
  {
   "cell_type": "code",
   "execution_count": 83,
   "metadata": {
    "collapsed": false
   },
   "outputs": [],
   "source": [
    "avg_trans_family = newnew.groupby( ['family','store_nbr']).size().to_frame('avg_trans_family').reset_index()"
   ]
  },
  {
   "cell_type": "code",
   "execution_count": 69,
   "metadata": {
    "collapsed": false
   },
   "outputs": [],
   "source": [
    "newnew=pd.merge(newnew, avg_class_full, how='left', on=['class'])\n",
    "newnew=pd.merge(newnew, avg_class_store, how='left', on=['class','store_nbr'])\n",
    "newnew=pd.merge(newnew, avg_trans_family, how='left', on=['family','store_nbr'])"
   ]
  },
  {
   "cell_type": "code",
   "execution_count": 84,
   "metadata": {
    "collapsed": false
   },
   "outputs": [
    {
     "ename": "ValueError",
     "evalue": "labels ['0'] not contained in axis",
     "output_type": "error",
     "traceback": [
      "\u001b[0;31m---------------------------------------------------------------------------\u001b[0m",
      "\u001b[0;31mValueError\u001b[0m                                Traceback (most recent call last)",
      "\u001b[0;32m<ipython-input-84-8a6c6a97fe93>\u001b[0m in \u001b[0;36m<module>\u001b[0;34m()\u001b[0m\n\u001b[0;32m----> 1\u001b[0;31m \u001b[0mnewnew\u001b[0m\u001b[1;33m.\u001b[0m\u001b[0mdrop\u001b[0m\u001b[1;33m(\u001b[0m\u001b[1;34m'0'\u001b[0m\u001b[1;33m,\u001b[0m \u001b[1;36m1\u001b[0m\u001b[1;33m,\u001b[0m \u001b[0minplace\u001b[0m\u001b[1;33m=\u001b[0m\u001b[1;32mTrue\u001b[0m\u001b[1;33m)\u001b[0m\u001b[1;33m\u001b[0m\u001b[0m\n\u001b[0m",
      "\u001b[0;32mC:\\Users\\woj\\Anaconda3\\lib\\site-packages\\pandas\\core\\generic.py\u001b[0m in \u001b[0;36mdrop\u001b[0;34m(self, labels, axis, level, inplace, errors)\u001b[0m\n\u001b[1;32m   1905\u001b[0m                 \u001b[0mnew_axis\u001b[0m \u001b[1;33m=\u001b[0m \u001b[0maxis\u001b[0m\u001b[1;33m.\u001b[0m\u001b[0mdrop\u001b[0m\u001b[1;33m(\u001b[0m\u001b[0mlabels\u001b[0m\u001b[1;33m,\u001b[0m \u001b[0mlevel\u001b[0m\u001b[1;33m=\u001b[0m\u001b[0mlevel\u001b[0m\u001b[1;33m,\u001b[0m \u001b[0merrors\u001b[0m\u001b[1;33m=\u001b[0m\u001b[0merrors\u001b[0m\u001b[1;33m)\u001b[0m\u001b[1;33m\u001b[0m\u001b[0m\n\u001b[1;32m   1906\u001b[0m             \u001b[1;32melse\u001b[0m\u001b[1;33m:\u001b[0m\u001b[1;33m\u001b[0m\u001b[0m\n\u001b[0;32m-> 1907\u001b[0;31m                 \u001b[0mnew_axis\u001b[0m \u001b[1;33m=\u001b[0m \u001b[0maxis\u001b[0m\u001b[1;33m.\u001b[0m\u001b[0mdrop\u001b[0m\u001b[1;33m(\u001b[0m\u001b[0mlabels\u001b[0m\u001b[1;33m,\u001b[0m \u001b[0merrors\u001b[0m\u001b[1;33m=\u001b[0m\u001b[0merrors\u001b[0m\u001b[1;33m)\u001b[0m\u001b[1;33m\u001b[0m\u001b[0m\n\u001b[0m\u001b[1;32m   1908\u001b[0m             \u001b[0mdropped\u001b[0m \u001b[1;33m=\u001b[0m \u001b[0mself\u001b[0m\u001b[1;33m.\u001b[0m\u001b[0mreindex\u001b[0m\u001b[1;33m(\u001b[0m\u001b[1;33m**\u001b[0m\u001b[1;33m{\u001b[0m\u001b[0maxis_name\u001b[0m\u001b[1;33m:\u001b[0m \u001b[0mnew_axis\u001b[0m\u001b[1;33m}\u001b[0m\u001b[1;33m)\u001b[0m\u001b[1;33m\u001b[0m\u001b[0m\n\u001b[1;32m   1909\u001b[0m             \u001b[1;32mtry\u001b[0m\u001b[1;33m:\u001b[0m\u001b[1;33m\u001b[0m\u001b[0m\n",
      "\u001b[0;32mC:\\Users\\woj\\Anaconda3\\lib\\site-packages\\pandas\\indexes\\base.py\u001b[0m in \u001b[0;36mdrop\u001b[0;34m(self, labels, errors)\u001b[0m\n\u001b[1;32m   3260\u001b[0m             \u001b[1;32mif\u001b[0m \u001b[0merrors\u001b[0m \u001b[1;33m!=\u001b[0m \u001b[1;34m'ignore'\u001b[0m\u001b[1;33m:\u001b[0m\u001b[1;33m\u001b[0m\u001b[0m\n\u001b[1;32m   3261\u001b[0m                 raise ValueError('labels %s not contained in axis' %\n\u001b[0;32m-> 3262\u001b[0;31m                                  labels[mask])\n\u001b[0m\u001b[1;32m   3263\u001b[0m             \u001b[0mindexer\u001b[0m \u001b[1;33m=\u001b[0m \u001b[0mindexer\u001b[0m\u001b[1;33m[\u001b[0m\u001b[1;33m~\u001b[0m\u001b[0mmask\u001b[0m\u001b[1;33m]\u001b[0m\u001b[1;33m\u001b[0m\u001b[0m\n\u001b[1;32m   3264\u001b[0m         \u001b[1;32mreturn\u001b[0m \u001b[0mself\u001b[0m\u001b[1;33m.\u001b[0m\u001b[0mdelete\u001b[0m\u001b[1;33m(\u001b[0m\u001b[0mindexer\u001b[0m\u001b[1;33m)\u001b[0m\u001b[1;33m\u001b[0m\u001b[0m\n",
      "\u001b[0;31mValueError\u001b[0m: labels ['0'] not contained in axis"
     ]
    }
   ],
   "source": [
    "newnew.drop('0', 1, inplace=True)"
   ]
  },
  {
   "cell_type": "code",
   "execution_count": 81,
   "metadata": {
    "collapsed": false
   },
   "outputs": [
    {
     "data": {
      "text/html": [
       "<div>\n",
       "<table border=\"1\" class=\"dataframe\">\n",
       "  <thead>\n",
       "    <tr style=\"text-align: right;\">\n",
       "      <th></th>\n",
       "      <th>id</th>\n",
       "      <th>date</th>\n",
       "      <th>store_nbr</th>\n",
       "      <th>item_nbr</th>\n",
       "      <th>unit_sales</th>\n",
       "      <th>onpromotion</th>\n",
       "      <th>wd</th>\n",
       "      <th>avg_day</th>\n",
       "      <th>avg_wday</th>\n",
       "      <th>avg_class</th>\n",
       "      <th>family</th>\n",
       "      <th>class</th>\n",
       "      <th>perishable</th>\n",
       "      <th>avg_class_store</th>\n",
       "      <th>0</th>\n",
       "    </tr>\n",
       "  </thead>\n",
       "  <tbody>\n",
       "    <tr>\n",
       "      <th>0</th>\n",
       "      <td>106672216</td>\n",
       "      <td>2017-02-18</td>\n",
       "      <td>34</td>\n",
       "      <td>463901</td>\n",
       "      <td>1.0</td>\n",
       "      <td>False</td>\n",
       "      <td>5</td>\n",
       "      <td>1.919471</td>\n",
       "      <td>1.863636</td>\n",
       "      <td>4.676555</td>\n",
       "      <td>CLEANING</td>\n",
       "      <td>3034</td>\n",
       "      <td>0</td>\n",
       "      <td>2.980253</td>\n",
       "      <td>37666</td>\n",
       "    </tr>\n",
       "    <tr>\n",
       "      <th>1</th>\n",
       "      <td>106672217</td>\n",
       "      <td>2017-02-18</td>\n",
       "      <td>34</td>\n",
       "      <td>463903</td>\n",
       "      <td>2.0</td>\n",
       "      <td>False</td>\n",
       "      <td>5</td>\n",
       "      <td>1.453537</td>\n",
       "      <td>1.375000</td>\n",
       "      <td>4.676555</td>\n",
       "      <td>CLEANING</td>\n",
       "      <td>3034</td>\n",
       "      <td>0</td>\n",
       "      <td>2.980253</td>\n",
       "      <td>37666</td>\n",
       "    </tr>\n",
       "    <tr>\n",
       "      <th>2</th>\n",
       "      <td>106672218</td>\n",
       "      <td>2017-02-18</td>\n",
       "      <td>34</td>\n",
       "      <td>464263</td>\n",
       "      <td>2.0</td>\n",
       "      <td>False</td>\n",
       "      <td>5</td>\n",
       "      <td>5.300080</td>\n",
       "      <td>5.958333</td>\n",
       "      <td>11.137202</td>\n",
       "      <td>GROCERY I</td>\n",
       "      <td>1014</td>\n",
       "      <td>0</td>\n",
       "      <td>9.238782</td>\n",
       "      <td>116155</td>\n",
       "    </tr>\n",
       "    <tr>\n",
       "      <th>3</th>\n",
       "      <td>106672219</td>\n",
       "      <td>2017-02-18</td>\n",
       "      <td>34</td>\n",
       "      <td>464302</td>\n",
       "      <td>3.0</td>\n",
       "      <td>False</td>\n",
       "      <td>5</td>\n",
       "      <td>1.726367</td>\n",
       "      <td>2.200000</td>\n",
       "      <td>4.548905</td>\n",
       "      <td>GROCERY I</td>\n",
       "      <td>1026</td>\n",
       "      <td>0</td>\n",
       "      <td>3.869122</td>\n",
       "      <td>116155</td>\n",
       "    </tr>\n",
       "    <tr>\n",
       "      <th>4</th>\n",
       "      <td>106672220</td>\n",
       "      <td>2017-02-18</td>\n",
       "      <td>34</td>\n",
       "      <td>464333</td>\n",
       "      <td>26.0</td>\n",
       "      <td>False</td>\n",
       "      <td>5</td>\n",
       "      <td>13.628486</td>\n",
       "      <td>17.799999</td>\n",
       "      <td>8.787640</td>\n",
       "      <td>GROCERY I</td>\n",
       "      <td>1040</td>\n",
       "      <td>0</td>\n",
       "      <td>11.485539</td>\n",
       "      <td>116155</td>\n",
       "    </tr>\n",
       "  </tbody>\n",
       "</table>\n",
       "</div>"
      ],
      "text/plain": [
       "          id       date  store_nbr  item_nbr  unit_sales onpromotion  wd  \\\n",
       "0  106672216 2017-02-18         34    463901         1.0       False   5   \n",
       "1  106672217 2017-02-18         34    463903         2.0       False   5   \n",
       "2  106672218 2017-02-18         34    464263         2.0       False   5   \n",
       "3  106672219 2017-02-18         34    464302         3.0       False   5   \n",
       "4  106672220 2017-02-18         34    464333        26.0       False   5   \n",
       "\n",
       "     avg_day   avg_wday  avg_class     family  class  perishable  \\\n",
       "0   1.919471   1.863636   4.676555   CLEANING   3034           0   \n",
       "1   1.453537   1.375000   4.676555   CLEANING   3034           0   \n",
       "2   5.300080   5.958333  11.137202  GROCERY I   1014           0   \n",
       "3   1.726367   2.200000   4.548905  GROCERY I   1026           0   \n",
       "4  13.628486  17.799999   8.787640  GROCERY I   1040           0   \n",
       "\n",
       "   avg_class_store       0  \n",
       "0         2.980253   37666  \n",
       "1         2.980253   37666  \n",
       "2         9.238782  116155  \n",
       "3         3.869122  116155  \n",
       "4        11.485539  116155  "
      ]
     },
     "execution_count": 81,
     "metadata": {},
     "output_type": "execute_result"
    }
   ],
   "source": [
    "newnew.head()"
   ]
  },
  {
   "cell_type": "code",
   "execution_count": 71,
   "metadata": {
    "collapsed": true
   },
   "outputs": [],
   "source": [
    "del avg_class_full, avg_class_store"
   ]
  }
 ],
 "metadata": {
  "kernelspec": {
   "display_name": "Python 3",
   "language": "python",
   "name": "python3"
  },
  "language_info": {
   "codemirror_mode": {
    "name": "ipython",
    "version": 3
   },
   "file_extension": ".py",
   "mimetype": "text/x-python",
   "name": "python",
   "nbconvert_exporter": "python",
   "pygments_lexer": "ipython3",
   "version": "3.6.0"
  }
 },
 "nbformat": 4,
 "nbformat_minor": 2
}
